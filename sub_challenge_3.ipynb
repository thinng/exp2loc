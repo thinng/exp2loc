{
 "cells": [
  {
   "cell_type": "markdown",
   "metadata": {},
   "source": [
    "### Clustering locations into groups of similar coordinates"
   ]
  },
  {
   "cell_type": "code",
   "execution_count": 1,
   "metadata": {},
   "outputs": [],
   "source": [
    "import pandas as pd\n",
    "import numpy as np\n",
    "from sklearn.cluster import MeanShift, estimate_bandwidth\n",
    "# in-situ coordinates\n",
    "insitu_coords = pd.read_csv('data/geometry.txt',sep=' ')\n",
    "\n",
    "y = insitu_coords[['xcoord','ycoord','zcoord']].values\n",
    "bw = estimate_bandwidth(y, quantile=.01)\n",
    "ms = MeanShift(bandwidth=bw, bin_seeding=True, min_bin_freq=5)\n",
    "ms.fit(y)\n",
    "# store coordinates for the centers of the clusters\n",
    "cluster_centers = ms.cluster_centers_\n",
    "\n",
    "# store what cluster the insitu coordinates belong to\n",
    "labels = ms.labels_"
   ]
  },
  {
   "cell_type": "markdown",
   "metadata": {},
   "source": [
    "### Feature selection"
   ]
  },
  {
   "cell_type": "code",
   "execution_count": 2,
   "metadata": {},
   "outputs": [],
   "source": [
    "import numpy as np\n",
    "import pandas as pd\n",
    "import scipy\n",
    "from sklearn import linear_model\n",
    "from skfeature.function.sparse_learning_based import MCFS,NDFS\n",
    "\n",
    "\n",
    "# Get marker genes from in situ data\n",
    "insitu_df = pd.read_csv('data/bdtnp.txt',sep='\\t')\n",
    "marker_genes = list(insitu_df.columns)\n",
    "\n",
    "# Get expression of marker genes for cells\n",
    "cell_df = pd.read_csv('data/dge_normalized.txt',sep='\\t')\n",
    "all_genes = list(cell_df.index)  \n",
    "cell_df = cell_df.T\n",
    "cell_df.columns = all_genes\n",
    "cell_df = cell_df[marker_genes]\n",
    "\n",
    "# rank features using MCFS feature selection method\n",
    "score = MCFS.mcfs(cell_df.values,20)\n",
    "idx = np.argsort(score)[::-1]\n",
    "genes = [marker_genes[e] for e in idx][:20]\n"
   ]
  },
  {
   "cell_type": "markdown",
   "metadata": {},
   "source": [
    "### Location prediction for cells"
   ]
  },
  {
   "cell_type": "code",
   "execution_count": 3,
   "metadata": {},
   "outputs": [],
   "source": [
    "from sklearn.neighbors import KNeighborsClassifier\n",
    "import scipy\n",
    "\n",
    "# this function returns MCC score for true_labels and pred_labels vectors\n",
    "def get_mcc(true_labels, pred_labels):\n",
    "    TP = np.sum(np.logical_and(pred_labels == 1, true_labels == 1))\n",
    "    TN = np.sum(np.logical_and(pred_labels == 0, true_labels == 0))\n",
    "    FP = np.sum(np.logical_and(pred_labels == 1, true_labels == 0))\n",
    "    FN = np.sum(np.logical_and(pred_labels == 0, true_labels == 1))\n",
    "    mcc = (TP * TN) - (FP * FN)\n",
    "    denom = np.sqrt((TP + FP) * (TP + FN) * (TN + FP) * (TN + FN))\n",
    "    if denom==0:\n",
    "        return 0\n",
    "    return mcc / denom\n",
    "\n",
    "# turn the probability to the clusters of the cell to the weighted coordinates of the cluster centers\n",
    "def get_xyz(x):\n",
    "    ret = []\n",
    "    for i in range(len(x)):\n",
    "        v = np.average(cluster_centers, axis=0, weights=x[i,:])\n",
    "        ret += [ v ]\n",
    "    return np.array(ret)\n",
    "\n",
    "# in-situ binary expression\n",
    "insitu_bin = pd.read_csv('data/binarized_bdtnp.csv')\n",
    "# in-situ coordinates\n",
    "insitu_coords = pd.read_csv('data/geometry.txt',sep=' ')\n",
    "\n",
    "# cell binary expression\n",
    "cell_bin = pd.read_csv('data/dge_binarized_distMap.csv')\n",
    "all_genes = list(cell_bin.index)  \n",
    "cell_bin = cell_bin.T\n",
    "cell_bin.columns = all_genes\n",
    "\n",
    "clf = KNeighborsClassifier()\n",
    "# learn a multi-class classifier\n",
    "clf.fit(insitu_bin[genes].values, labels)\n",
    "# predict probability of cells to the clusters\n",
    "preds = clf.predict_proba(cell_bin[genes].values)\n",
    "# turn the probabilities to average weighted coordinates\n",
    "preds = get_xyz(preds)\n",
    "# distance to the in situ coordinates of the predicted coordinates for cells\n",
    "preds_to_insitu_coords = scipy.spatial.distance.cdist(preds,insitu_coords[['xcoord','ycoord','zcoord']].values)\n",
    "\n",
    "# choose 10 best locations\n",
    "TOP = 10\n",
    "# store indices of locations for all cells\n",
    "indices = []\n",
    "for i in range(len(preds_to_insitu_coords)):\n",
    "#     get the index of the location whose the smallest to insitu coords\n",
    "    best_idx = preds_to_insitu_coords[i].argmin()\n",
    "#     get coordinates for the location\n",
    "    coord = insitu_coords[ insitu_coords.index==best_idx ][['xcoord','ycoord','zcoord']].values\n",
    "#     compared the coord with all the coords    \n",
    "    dist = scipy.spatial.distance.cdist(coord, insitu_coords[['xcoord','ycoord','zcoord']].values)[0]\n",
    "#     get the locations with shortest Euclidean distance\n",
    "    top_idx = dist.argsort()[:TOP]\n",
    "#     +1 as the location starts from 1\n",
    "    top_idx = [e+1 for e in top_idx]\n",
    "    indices += [ top_idx ]\n",
    "\n",
    "# submission file\n",
    "dout = 'sc_20genes.csv' \n",
    "with open(dout,'w') as file_result:\n",
    "    tmp = ['']\n",
    "    for i in range(len(genes)):\n",
    "        tmp += [ genes[i] ]\n",
    "        if (i+1)%10==0:\n",
    "            file_result.write(','.join(tmp) + '\\n')\n",
    "            tmp = ['']\n",
    "    for i in range(len(indices)):\n",
    "        tmp = [i+1] + indices[i]\n",
    "        file_result.write(','.join(map(str,tmp)) + '\\n')"
   ]
  }
 ],
 "metadata": {
  "kernelspec": {
   "display_name": "Python 3",
   "language": "python",
   "name": "python3"
  },
  "language_info": {
   "codemirror_mode": {
    "name": "ipython",
    "version": 3
   },
   "file_extension": ".py",
   "mimetype": "text/x-python",
   "name": "python",
   "nbconvert_exporter": "python",
   "pygments_lexer": "ipython3",
   "version": "3.7.6"
  }
 },
 "nbformat": 4,
 "nbformat_minor": 2
}
