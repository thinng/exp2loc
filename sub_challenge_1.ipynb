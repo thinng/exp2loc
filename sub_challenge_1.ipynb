{
 "cells": [
  {
   "cell_type": "markdown",
   "metadata": {},
   "source": [
    "### Feature selection"
   ]
  },
  {
   "cell_type": "code",
   "execution_count": 1,
   "metadata": {},
   "outputs": [],
   "source": [
    "from sklearn.feature_selection import VarianceThreshold\n",
    "import numpy as np\n",
    "import pandas as pd\n",
    "\n",
    "# Get marker genes from in situ data\n",
    "insitu_df = pd.read_csv('data/bdtnp.txt',sep='\\t')\n",
    "marker_genes = list(insitu_df.columns)\n",
    "\n",
    "# Get expression of marker genes for cells\n",
    "cell_df = pd.read_csv('data/dge_normalized.txt',sep='\\t')\n",
    "all_genes = list(cell_df.index)  \n",
    "cell_df = cell_df.T\n",
    "cell_df.columns = all_genes\n",
    "cell_df = cell_df[marker_genes]\n",
    "\n",
    "sel = VarianceThreshold()\n",
    "sel.fit(cell_df.values)\n",
    "score = sel.variances_\n",
    "\n",
    "# Descending sort the variance scores. 60 highest-variance genes will be selected.\n",
    "idx = np.argsort(score, 0)[::-1]\n",
    "genes = [marker_genes[e] for e in idx][:60]"
   ]
  },
  {
   "cell_type": "markdown",
   "metadata": {},
   "source": [
    "### Location prediction for cells"
   ]
  },
  {
   "cell_type": "code",
   "execution_count": 2,
   "metadata": {},
   "outputs": [],
   "source": [
    "import scipy\n",
    "# this function returns MCC score for true_labels and pred_labels vectors\n",
    "def get_mcc(true_labels, pred_labels):\n",
    "    TP = np.sum(np.logical_and(pred_labels == 1, true_labels == 1))\n",
    "    TN = np.sum(np.logical_and(pred_labels == 0, true_labels == 0))\n",
    "    FP = np.sum(np.logical_and(pred_labels == 1, true_labels == 0))\n",
    "    FN = np.sum(np.logical_and(pred_labels == 0, true_labels == 1))\n",
    "    mcc = (TP * TN) - (FP * FN)\n",
    "    denom = np.sqrt((TP + FP) * (TP + FN) * (TN + FP) * (TN + FN))\n",
    "    if denom==0:\n",
    "        return 0\n",
    "    return mcc / denom\n",
    "\n",
    "# in-situ binary expression\n",
    "insitu_bin = pd.read_csv('data/binarized_bdtnp.csv')\n",
    "# # in-situ coordinates\n",
    "insitu_coords = pd.read_csv('data/geometry.txt',sep=' ')\n",
    "\n",
    "# cell binary expression\n",
    "cell_bin = pd.read_csv('data/dge_binarized_distMap.csv')\n",
    "all_genes = list(cell_bin.index)  \n",
    "cell_bin = cell_bin.T\n",
    "cell_bin.columns = all_genes\n",
    "\n",
    "# compute MCC for all cells with all locations\n",
    "Pr = cell_bin[genes].values\n",
    "Gt = insitu_bin[genes].values\n",
    "mcc = np.asarray([get_mcc(p, g) for p in Pr for g in Gt])\n",
    "mcc = mcc.reshape(len(Pr),-1)\n",
    "\n",
    "# choose 10 best locations\n",
    "TOP = 10\n",
    "# store indices of locations for all cells\n",
    "indices = []\n",
    "# loop over all cells\n",
    "for i in range(len(mcc)):\n",
    "#     get the location whose the largest mcc\n",
    "    best_idx = mcc[i].argmax()\n",
    "#     get coordinates for the location\n",
    "    coord = insitu_coords[ insitu_coords.index==best_idx ][['xcoord','ycoord','zcoord']].values\n",
    "#     compared the coord with all the coords    \n",
    "    dist = scipy.spatial.distance.cdist(coord, insitu_coords[['xcoord','ycoord','zcoord']].values)[0]\n",
    "#     get the locations with shortest Euclidean distance\n",
    "    top_idx = dist.argsort()[:TOP]\n",
    "#     +1 as the location starts from 1\n",
    "    top_idx = [e+1 for e in top_idx]\n",
    "    indices += [ top_idx ]\n",
    "\n",
    "# submission file\n",
    "dout = 'sc_60genes.csv' \n",
    "with open(dout,'w') as file_result:\n",
    "    tmp = ['']\n",
    "    for i in range(len(genes)):\n",
    "        tmp += [ genes[i] ]\n",
    "        if (i+1)%10==0:\n",
    "            file_result.write(','.join(tmp) + '\\n')\n",
    "            tmp = ['']\n",
    "    for i in range(len(indices)):\n",
    "        tmp = [i+1] + indices[i]\n",
    "        file_result.write(','.join(map(str,tmp)) + '\\n')"
   ]
  }
 ],
 "metadata": {
  "kernelspec": {
   "display_name": "Python 3",
   "language": "python",
   "name": "python3"
  },
  "language_info": {
   "codemirror_mode": {
    "name": "ipython",
    "version": 3
   },
   "file_extension": ".py",
   "mimetype": "text/x-python",
   "name": "python",
   "nbconvert_exporter": "python",
   "pygments_lexer": "ipython3",
   "version": "3.7.6"
  }
 },
 "nbformat": 4,
 "nbformat_minor": 2
}
